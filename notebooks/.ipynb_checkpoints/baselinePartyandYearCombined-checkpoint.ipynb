{
 "cells": [
  {
   "cell_type": "markdown",
   "metadata": {},
   "source": [
    "# Initial Notebook for CS224U Project"
   ]
  },
  {
   "cell_type": "markdown",
   "metadata": {},
   "source": [
    "## Creating Data"
   ]
  },
  {
   "cell_type": "code",
   "execution_count": 1,
   "metadata": {},
   "outputs": [],
   "source": [
    "from sklearn.model_selection import train_test_split\n",
    "import csv\n",
    "from sklearn.metrics import classification_report, accuracy_score, f1_score"
   ]
  },
  {
   "cell_type": "code",
   "execution_count": 2,
   "metadata": {},
   "outputs": [],
   "source": [
    "questions = []\n",
    "with open('../data/combinedQBank.csv', encoding='utf-8') as f:\n",
    "    reader = csv.DictReader(f)\n",
    "    for q in reader:\n",
    "        questions.append([(q['memPart'] + '@' + q['date']), q['memAffi']])  "
   ]
  },
  {
   "cell_type": "code",
   "execution_count": 3,
   "metadata": {},
   "outputs": [
    {
     "data": {
      "text/plain": [
       "12707"
      ]
     },
     "execution_count": 3,
     "metadata": {},
     "output_type": "execute_result"
    }
   ],
   "source": [
    "len(questions)"
   ]
  },
  {
   "cell_type": "code",
   "execution_count": 4,
   "metadata": {},
   "outputs": [],
   "source": [
    "X, y = zip(*list(questions))\n",
    "X_train, X_test, y_train, y_test = train_test_split(X, y, test_size=0.2)\n",
    "\n",
    "train_data = list(zip(X_train, y_train))\n",
    "test_data = list(zip(X_test, y_test))"
   ]
  },
  {
   "cell_type": "code",
   "execution_count": 5,
   "metadata": {},
   "outputs": [
    {
     "data": {
      "text/plain": [
       "10165"
      ]
     },
     "execution_count": 5,
     "metadata": {},
     "output_type": "execute_result"
    }
   ],
   "source": [
    "len(train_data)"
   ]
  },
  {
   "cell_type": "code",
   "execution_count": 6,
   "metadata": {},
   "outputs": [],
   "source": [
    "with open('data/train_data_partydate.csv', 'w', encoding='utf-8') as f:\n",
    "    writer = csv.writer(f)\n",
    "    writer.writerows(train_data)\n",
    "\n",
    "with open('data/test_data_partydate.csv', 'w', encoding='utf-8') as f:\n",
    "    writer = csv.writer(f)\n",
    "    writer.writerows(test_data)"
   ]
  },
  {
   "cell_type": "code",
   "execution_count": 7,
   "metadata": {},
   "outputs": [],
   "source": [
    "def read_array_from_csv(inputcsv):\n",
    "    out = []\n",
    "    with open(inputcsv, encoding='utf-8') as f:\n",
    "        reader = csv.reader(f)\n",
    "        for q in reader:\n",
    "            out.append(q)\n",
    "    return out"
   ]
  },
  {
   "cell_type": "code",
   "execution_count": 8,
   "metadata": {},
   "outputs": [],
   "source": [
    "new_train = read_array_from_csv('data/train_data_partydate.csv')"
   ]
  },
  {
   "cell_type": "code",
   "execution_count": 9,
   "metadata": {},
   "outputs": [
    {
     "data": {
      "text/plain": [
       "10165"
      ]
     },
     "execution_count": 9,
     "metadata": {},
     "output_type": "execute_result"
    }
   ],
   "source": [
    "len(new_train)"
   ]
  },
  {
   "cell_type": "markdown",
   "metadata": {},
   "source": [
    "## Simple Model"
   ]
  },
  {
   "cell_type": "markdown",
   "metadata": {},
   "source": [
    "### First, some feature functions"
   ]
  },
  {
   "cell_type": "markdown",
   "metadata": {},
   "source": [
    "A unigrams feature function"
   ]
  },
  {
   "cell_type": "code",
   "execution_count": 10,
   "metadata": {},
   "outputs": [],
   "source": [
    "def names_phi(question):\n",
    "    name = {}\n",
    "    split = question.split('@')\n",
    "    party = split[0]\n",
    "    date = split[1]\n",
    "    name['party'] = party\n",
    "    name['date'] = date\n",
    "    return name"
   ]
  },
  {
   "cell_type": "markdown",
   "metadata": {},
   "source": [
    "### Now, let's bring in all the machinery from SST"
   ]
  },
  {
   "cell_type": "code",
   "execution_count": 11,
   "metadata": {},
   "outputs": [],
   "source": [
    "import utils\n",
    "import sst\n",
    "import scipy.stats\n",
    "from sgd_classifier import BasicSGDClassifier"
   ]
  },
  {
   "cell_type": "markdown",
   "metadata": {},
   "source": [
    "To build a dataset, we need a reader"
   ]
  },
  {
   "cell_type": "code",
   "execution_count": 12,
   "metadata": {},
   "outputs": [],
   "source": [
    "def hansard_reader(\n",
    "        src_filename,\n",
    "        class_func=None):\n",
    "    \"\"\"Overview\n",
    "\n",
    "    Parameters\n",
    "    ----------\n",
    "    src_filename : str\n",
    "        Full path to the file to be read.\n",
    "    class_func : None, or function mapping labels to labels or None\n",
    "        If this is None, then the original 5-way labels are returned.\n",
    "        Other options: `binary_class_func` and `ternary_class_func`\n",
    "        (or you could write your own).\n",
    "\n",
    "\n",
    "    Yields\n",
    "    ------\n",
    "    (tree, label)\n",
    "        nltk.Tree, str in {'0','1','2','3','4'}\n",
    "\n",
    "    \"\"\"\n",
    "    if class_func is None:\n",
    "        class_func = lambda x: x\n",
    "    with open(src_filename, encoding='utf-8') as f:\n",
    "        reader = csv.reader(f)\n",
    "        for q in reader:\n",
    "            yield (q[0], class_func(q[1]))\n",
    "            \n",
    "def train_reader(**kwargs):\n",
    "    \"\"\"Convenience function for reading the train file, full-trees only.\"\"\"\n",
    "    src = 'data/train_data_partydate.csv'\n",
    "    return hansard_reader(src,**kwargs)"
   ]
  },
  {
   "cell_type": "code",
   "execution_count": 13,
   "metadata": {},
   "outputs": [],
   "source": [
    "train_dataset = sst.build_dataset(\n",
    "    reader=train_reader,\n",
    "    phi=names_phi,\n",
    "    class_func=None,\n",
    "    vectorizer=None)"
   ]
  },
  {
   "cell_type": "code",
   "execution_count": 14,
   "metadata": {},
   "outputs": [
    {
     "name": "stdout",
     "output_type": "stream",
     "text": [
      "Train dataset with unigram features has 10,165 examples and 582 features\n"
     ]
    }
   ],
   "source": [
    "print(\"Train dataset with unigram features has {:,} examples and {:,} features\".format(\n",
    "        *train_dataset['X'].shape))"
   ]
  },
  {
   "cell_type": "code",
   "execution_count": 15,
   "metadata": {},
   "outputs": [
    {
     "data": {
      "text/plain": [
       "['Con@20041027', 'opp']"
      ]
     },
     "execution_count": 15,
     "metadata": {},
     "output_type": "execute_result"
    }
   ],
   "source": [
    "new_train[1]"
   ]
  },
  {
   "cell_type": "markdown",
   "metadata": {},
   "source": [
    "### Wrapper for SGD Classifier"
   ]
  },
  {
   "cell_type": "code",
   "execution_count": 16,
   "metadata": {},
   "outputs": [],
   "source": [
    "def fit_basic_sgd_classifier(X, y):    \n",
    "    \"\"\"Wrapper for `BasicSGDClassifier`.\n",
    "    \n",
    "    Parameters\n",
    "    ----------\n",
    "    X : 2d np.array\n",
    "        The matrix of features, one example per row.        \n",
    "    y : list\n",
    "        The list of labels for rows in `X`.\n",
    "    \n",
    "    Returns\n",
    "    -------\n",
    "    BasicSGDClassifier\n",
    "        A trained `BasicSGDClassifier` instance.\n",
    "    \n",
    "    \"\"\"    \n",
    "    mod = BasicSGDClassifier()\n",
    "    mod.fit(X, y)\n",
    "    return mod"
   ]
  },
  {
   "cell_type": "markdown",
   "metadata": {},
   "source": [
    "### Class Functions"
   ]
  },
  {
   "cell_type": "code",
   "execution_count": 17,
   "metadata": {},
   "outputs": [],
   "source": [
    "def cas_to_gov(label):\n",
    "    if label == 'cas':\n",
    "        return 'gov'\n",
    "    else:\n",
    "        return label"
   ]
  },
  {
   "cell_type": "markdown",
   "metadata": {},
   "source": [
    "### Experiments"
   ]
  },
  {
   "cell_type": "code",
   "execution_count": 18,
   "metadata": {},
   "outputs": [
    {
     "name": "stdout",
     "output_type": "stream",
     "text": [
      "Accuracy: 0.874\n",
      "             precision    recall  f1-score   support\n",
      "\n",
      "        gov      0.852     0.763     0.805      1042\n",
      "        opp      0.883     0.931     0.907      2008\n",
      "\n",
      "avg / total      0.873     0.874     0.872      3050\n",
      "\n"
     ]
    }
   ],
   "source": [
    "_ = sst.experiment(\n",
    "    names_phi,\n",
    "    fit_basic_sgd_classifier,\n",
    "    train_reader=train_reader, \n",
    "    assess_reader=None, \n",
    "    train_size=0.7,\n",
    "    class_func=cas_to_gov,\n",
    "    score_func=utils.safe_macro_f1,\n",
    "    verbose=True)"
   ]
  },
  {
   "cell_type": "code",
   "execution_count": 19,
   "metadata": {},
   "outputs": [],
   "source": [
    "from sklearn.linear_model import LogisticRegression"
   ]
  },
  {
   "cell_type": "code",
   "execution_count": 20,
   "metadata": {},
   "outputs": [],
   "source": [
    "def fit_maxent_classifier(X, y):   \n",
    "    mod = LogisticRegression(fit_intercept=True)\n",
    "    mod.fit(X, y)\n",
    "    return mod"
   ]
  },
  {
   "cell_type": "code",
   "execution_count": 21,
   "metadata": {},
   "outputs": [
    {
     "name": "stdout",
     "output_type": "stream",
     "text": [
      "Accuracy: 0.804\n",
      "             precision    recall  f1-score   support\n",
      "\n",
      "        gov      0.709     0.696     0.703      1013\n",
      "        opp      0.850     0.858     0.854      2037\n",
      "\n",
      "avg / total      0.803     0.804     0.804      3050\n",
      "\n"
     ]
    }
   ],
   "source": [
    "_ = sst.experiment(\n",
    "    names_phi,\n",
    "    fit_maxent_classifier,\n",
    "    train_reader=train_reader, \n",
    "    assess_reader=None, \n",
    "    train_size=0.7,\n",
    "    class_func=cas_to_gov,\n",
    "    score_func=utils.safe_macro_f1,\n",
    "    verbose=True)"
   ]
  },
  {
   "cell_type": "code",
   "execution_count": 22,
   "metadata": {},
   "outputs": [],
   "source": [
    "# Which feature functions?\n",
    "phi = names_phi\n",
    "\n",
    "# What reader do we use for testing? (None gives us a random split)\n",
    "assess_reader = None\n",
    "\n",
    "# What classifier function?\n",
    "class_func = cas_to_gov\n",
    "\n",
    "# Vectorise?\n",
    "vectorize = True\n",
    "\n",
    "#Train size\n",
    "train_size = 0.7"
   ]
  },
  {
   "cell_type": "markdown",
   "metadata": {},
   "source": [
    "Which model function thing are we to use?"
   ]
  },
  {
   "cell_type": "code",
   "execution_count": 23,
   "metadata": {},
   "outputs": [],
   "source": [
    "classifier = LogisticRegression(fit_intercept=True)"
   ]
  },
  {
   "cell_type": "code",
   "execution_count": 24,
   "metadata": {},
   "outputs": [],
   "source": [
    "def our_new_classifier(X, y):   \n",
    "    mod = classifier\n",
    "    mod.fit(X, y)\n",
    "    return mod\n",
    "\n",
    "train_func = our_new_classifier"
   ]
  },
  {
   "cell_type": "code",
   "execution_count": 25,
   "metadata": {},
   "outputs": [],
   "source": [
    "train = sst.build_dataset(train_reader, phi, class_func, vectorize=vectorize)"
   ]
  },
  {
   "cell_type": "code",
   "execution_count": 26,
   "metadata": {},
   "outputs": [
    {
     "name": "stdout",
     "output_type": "stream",
     "text": [
      "Accuracy: 0.799\n",
      "             precision    recall  f1-score   support\n",
      "\n",
      "        gov      0.723     0.684     0.703      1063\n",
      "        opp      0.836     0.860     0.848      1987\n",
      "\n",
      "avg / total      0.797     0.799     0.797      3050\n",
      "\n"
     ]
    }
   ],
   "source": [
    "# Manage the assessment set-up:\n",
    "X_train = train['X']\n",
    "y_train = train['y']\n",
    "X_assess = None\n",
    "y_assess = None\n",
    "if assess_reader == None:\n",
    "     X_train, X_assess, y_train, y_assess = train_test_split(\n",
    "            X_train, y_train, train_size=train_size, test_size=None)\n",
    "else:\n",
    "    # Assessment dataset using the training vectorizer:\n",
    "    assess = sst.build_dataset(\n",
    "        assess_reader,\n",
    "        phi,\n",
    "        class_func,\n",
    "        vectorizer=train['vectorizer'],\n",
    "        vectorize=vectorize)\n",
    "    X_assess, y_assess = assess['X'], assess['y']\n",
    "# Train:\n",
    "mod = train_func(X_train, y_train)\n",
    "# Predictions:\n",
    "predictions = mod.predict(X_assess)\n",
    "# Report:\n",
    "print('Accuracy: %0.03f' % sst.accuracy_score(y_assess, predictions))\n",
    "print(classification_report(y_assess, predictions, digits=3))"
   ]
  },
  {
   "cell_type": "code",
   "execution_count": 27,
   "metadata": {},
   "outputs": [
    {
     "name": "stdout",
     "output_type": "stream",
     "text": [
      "[[ 1.48266264e-02  4.32372395e-02  5.14608013e-02  1.77403337e-02\n",
      "   2.63821571e-02  1.18960120e-02  8.94826989e-03  1.48266264e-02\n",
      "   2.35178890e-02  3.48793592e-02  2.63821571e-02  2.06373506e-02\n",
      "   2.63821571e-02  1.48266264e-02  1.77403337e-02  2.63821571e-02\n",
      "   3.20626941e-02  3.48793592e-02  2.35178890e-02  2.63821571e-02\n",
      "   1.48266264e-02  2.35178890e-02  2.35178890e-02  2.35178890e-02\n",
      "   2.35178890e-02  1.77403337e-02  1.48266264e-02  2.35178890e-02\n",
      "   2.92303588e-02  2.06373506e-02  2.63821571e-02  2.63821571e-02\n",
      "   2.06373506e-02  2.35178890e-02  1.77403337e-02  2.06373506e-02\n",
      "   2.06373506e-02  1.48266264e-02  2.35178890e-02  2.92303588e-02\n",
      "   1.77403337e-02  3.20626941e-02  8.94826989e-03  5.98317460e-03\n",
      "   1.77403337e-02  1.77403337e-02  8.94826989e-03  1.18960120e-02\n",
      "   2.35178890e-02  3.20626941e-02  3.20626941e-02  2.35178890e-02\n",
      "   1.77403337e-02  2.92303588e-02  2.35178890e-02  2.35178890e-02\n",
      "   2.35178890e-02  2.06373506e-02  2.35178890e-02  2.35178890e-02\n",
      "   3.20626941e-02  4.87342410e-02  2.06373506e-02  2.63821571e-02\n",
      "   2.92303588e-02  3.20626941e-02  3.20626941e-02  2.06373506e-02\n",
      "   2.06373506e-02  2.63821571e-02  1.48266264e-02  1.18960120e-02\n",
      "   2.35178890e-02  2.35178890e-02  1.48266264e-02  2.06373506e-02\n",
      "   3.20626941e-02  2.63821571e-02  2.35178890e-02  1.48266264e-02\n",
      "   2.92303588e-02  2.92303588e-02  3.48793592e-02  3.20626941e-02\n",
      "   2.35178890e-02  2.63821571e-02  3.20626941e-02  2.92303588e-02\n",
      "   3.48793592e-02  2.63821571e-02  1.48266264e-02  2.35178890e-02\n",
      "   2.35178890e-02  2.63821571e-02  2.06373506e-02  3.20626941e-02\n",
      "   2.92303588e-02  2.35178890e-02  2.06373506e-02  1.48266264e-02\n",
      "   2.92303588e-02  2.35178890e-02  2.06373506e-02  1.48266264e-02\n",
      "   3.48793592e-02  1.77403337e-02  3.76805465e-02  2.92303588e-02\n",
      "   3.76805465e-02  2.06373506e-02  3.48793592e-02  2.63821571e-02\n",
      "   2.63821571e-02  2.63821571e-02  1.77403337e-02  3.48793592e-02\n",
      "   1.18960120e-02  2.92303588e-02  2.06373506e-02  2.06373506e-02\n",
      "   4.04664449e-02  4.04664449e-02  4.32372395e-02  3.20626941e-02\n",
      "   2.63821571e-02  2.35178890e-02  2.06373506e-02  2.63821571e-02\n",
      "   2.35178890e-02  2.63821571e-02  3.20626941e-02  9.17834811e-01\n",
      "  -8.01472795e-02 -2.45207914e-01 -2.45566041e-02 -3.01459828e-03\n",
      "  -4.07128162e-02  5.54789471e-01 -2.73327785e-01  4.54644840e-01\n",
      "  -1.07533959e-01 -9.90017041e-01  7.34144423e-01  3.29030083e-02\n",
      "   7.31124091e-02  1.52250153e+00  1.04974634e+00  8.63786742e-01\n",
      "   4.81530428e-01  8.77288002e-01 -1.01899748e+00  1.78380669e-01\n",
      "  -1.95202497e-01  8.58762981e-01  9.82230168e-02 -2.26136313e-01\n",
      "  -1.82030827e-01 -2.88851862e-01  1.02437484e+00  5.00763844e-01\n",
      "   2.25852200e-01  2.37875530e-01 -1.23615154e-01 -2.86480242e-01\n",
      "  -4.71306977e-01  5.39587939e-01  2.02685164e-01  1.14071028e+00\n",
      "   6.53907775e-01  3.73865276e-01 -5.35957525e-01 -4.23472162e-01\n",
      "   5.64825506e-01 -2.40383231e-02  2.45297685e-01  1.45460696e-01\n",
      "   7.51635977e-01  1.65747382e-01 -3.25550509e-01  2.51227747e-01\n",
      "   6.23792323e-01  8.63786742e-01  3.92068078e-01 -6.27062176e-01\n",
      "   1.02232384e+00  5.47092710e-01  1.57053618e-02 -9.12085795e-01\n",
      "   2.37875530e-01  6.48006637e-01  7.96014267e-01 -1.23391080e+00\n",
      "  -8.68386348e-01 -1.71428192e-01 -1.13099991e-02  4.64757002e-01\n",
      "   4.84805414e-01  2.85894134e-01  8.63649326e-01 -7.39874351e-01\n",
      "  -1.12478608e-01  9.32968625e-01  7.95825354e-02  7.26093372e-01\n",
      "   2.21929636e-02  4.21194195e-01  2.35634854e-01  1.00405514e-01\n",
      "   7.85418856e-01 -3.71876179e-01  3.00882527e-01  6.07710443e-01\n",
      "   7.58197367e-02  2.98479433e-01 -3.03897513e-01  1.33562588e+00\n",
      "   8.65454001e-01  5.04070305e-01  1.05358849e+00  5.55958548e-01\n",
      "   1.24171060e+00  5.79744568e-01  2.37875530e-01  3.52189225e-01\n",
      "  -2.36489345e-02  2.69457563e-01  1.33562588e+00  6.29566690e-01\n",
      "   1.22189793e+00  6.68368286e-02  1.33562588e+00  8.59731718e-01\n",
      "   5.25789725e-01 -3.26903021e-01 -6.31765944e-01  1.63039970e-01\n",
      "   8.70238980e-01  1.05358849e+00  3.27731964e-01  1.21411231e+00\n",
      "   1.13279491e+00  8.59731718e-01  1.05358849e+00  4.41005310e-01\n",
      "   1.41833095e+00 -1.88538242e-01  1.13279491e+00  3.03779106e-01\n",
      "   6.17889798e-01  8.78249009e-01  5.19633120e-01  1.05358849e+00\n",
      "  -9.47304018e-02  1.63039970e-01  6.63222331e-01  8.70238980e-01\n",
      "   1.69865728e-01 -9.90341495e-02 -5.15250282e-02 -7.75337815e-01\n",
      "   1.63039970e-01  1.13279491e+00 -1.88538242e-01  8.78249009e-01\n",
      "  -3.26903021e-01  6.64950978e-01  6.64950978e-01  1.32976330e+00\n",
      "   3.03779106e-01 -3.03897513e-01  5.04070305e-01 -3.14837303e-01\n",
      "   8.85087400e-01  8.59731718e-01 -1.28024324e+00  6.64950978e-01\n",
      "   1.82953718e-01  1.15300691e+00  1.32976330e+00  1.35046458e+00\n",
      "   1.32976330e+00  3.03779106e-01 -5.36138445e-01  1.63039970e-01\n",
      "   1.13279491e+00  1.13279491e+00  8.59731718e-01  6.17889798e-01\n",
      "  -6.91157072e-01 -8.48964084e-01 -1.20116739e-01  8.59731718e-01\n",
      "  -6.17853012e-01  1.05358849e+00  1.51245545e+00  6.17889798e-01\n",
      "   8.80478777e-01  8.78249009e-01  1.06786473e+00  1.13279491e+00\n",
      "   1.05358849e+00  5.25789725e-01  6.64950978e-01  3.23608875e-01\n",
      "   6.17889798e-01  3.03779106e-01  8.59731718e-01  1.63039970e-01\n",
      "  -1.16798927e+00  8.59731718e-01 -1.20116739e-01 -1.60832207e-01\n",
      "   8.02809504e-01  5.04728151e-01 -1.38883379e-01 -3.18999930e-02\n",
      "  -1.91372887e-01 -4.65297623e-01 -4.66970324e-01 -1.48080566e-01\n",
      "  -4.37596490e-01  2.38180338e-02 -2.62150977e-01 -8.92822657e-02\n",
      "  -2.89029246e-01 -6.21126286e-01 -2.47653642e-01 -1.37587100e-01\n",
      "  -7.49040675e-02 -7.34981844e-01 -4.28926203e-02 -4.69018332e-01\n",
      "  -1.39787880e-01 -1.75679351e-01  2.34979980e-01 -2.19035517e-01\n",
      "   2.60294709e-01 -4.54206822e-01 -2.80314497e-01 -1.72213404e-01\n",
      "  -4.88705890e-01 -3.95239764e-01 -1.92114324e-01 -3.01122862e-02\n",
      "  -2.06994225e-01 -2.64623875e-01 -1.68191956e-01 -2.44444870e-01\n",
      "  -4.62404033e-01 -4.16536937e-01 -3.45791070e-01  1.12778612e-01\n",
      "  -6.60944185e-01 -1.93419868e-01 -5.31059278e-01 -9.93203828e-02\n",
      "  -3.77750779e-01 -4.00246129e-01 -3.50587216e-01  1.47843880e-01\n",
      "  -4.14321957e-01 -5.12872222e-01  1.92909749e-01 -6.23069425e-01\n",
      "  -3.95925363e-01 -1.98062103e-01 -5.24431045e-01  7.58940536e-02\n",
      "  -2.39545501e-01 -4.78274122e-01 -3.48787668e-01 -1.16811207e-01\n",
      "  -8.87930324e-02 -3.55286048e-01 -1.99399389e-01 -1.70969696e-01\n",
      "  -2.51926708e-01 -3.54035765e-01  1.24609309e-01 -5.95696359e-01\n",
      "  -3.59071734e-01 -1.38970826e+00 -4.31986243e-01 -3.45593715e-01\n",
      "   1.87834436e-02  6.44815928e-02  3.52939167e-01 -9.75359569e-02\n",
      "  -1.22720235e-01 -1.15029184e-01 -1.80591103e-01 -7.83075545e-02\n",
      "   8.76423825e-02 -6.23694814e-02 -4.72380690e-01 -2.09760697e-01\n",
      "  -2.91723637e-01 -2.43166459e-01 -3.58919869e-01 -6.99633844e-02\n",
      "  -3.52691615e-01 -2.91124404e-01  1.14307765e-01  1.64456907e-01\n",
      "  -6.02574399e-01 -3.51812177e-01 -4.03861083e-01 -2.57717970e-01\n",
      "  -2.85574769e-01 -7.90923554e-02 -4.25846316e-01 -3.29413941e-01\n",
      "  -2.16530556e-01 -2.42207092e-01 -6.28409161e-01 -1.93419868e-01\n",
      "  -3.16790040e-01 -6.01233251e-01  1.35717969e-01 -4.98630582e-01\n",
      "   1.25413615e-01 -2.09650413e-01 -1.74745992e-01 -3.76686843e-01\n",
      "  -9.37588925e-02 -1.93654970e-01 -2.86927310e-01 -4.53084108e-02\n",
      "   1.75907647e-01 -1.03627957e-01 -3.96271856e-01 -5.02593851e-01\n",
      "  -4.29587897e-03 -3.46193199e-01 -7.57126808e-02 -2.73308562e-01\n",
      "   8.53090204e-02 -4.24758960e-01 -2.81293420e-01 -1.86883890e-01\n",
      "  -7.84365921e-02 -9.40750263e-02 -1.50333744e-01 -3.59988732e-01\n",
      "  -1.67013231e-01 -3.30183799e-01 -4.25951213e-01 -4.95348531e-01\n",
      "   8.16348594e-02 -4.24458448e-01 -4.58163256e-01 -9.36038074e-01\n",
      "  -2.05266396e-01 -1.45940904e-01 -3.38084066e-01 -1.25147456e-01\n",
      "  -1.90776570e-01 -4.49380847e-01 -4.10024863e-01 -3.42708169e-01\n",
      "  -1.45111738e-01 -3.43298133e-01 -3.02041888e-01 -9.00028345e-02\n",
      "  -4.14810130e-01 -2.69350365e-01 -3.87091325e-01 -4.56621259e-01\n",
      "  -2.23360348e-01 -3.08747774e-01 -1.89388795e-01 -6.29239271e-01\n",
      "  -1.64318334e-01 -9.37622013e-01 -6.50559103e-02 -1.88538242e-01\n",
      "  -4.52758924e-01 -2.36674367e-01 -3.99623245e-01 -9.00160905e-02\n",
      "  -3.59087347e-01 -3.21565642e-01  1.38972553e-01  9.85067225e-04\n",
      "  -2.03773387e-01 -1.00665630e-01 -8.05311347e-01 -5.25276483e-01\n",
      "  -5.09332137e-01 -3.03614800e-01 -1.54432434e-01 -6.62231542e-01\n",
      "  -4.52758924e-01 -2.24356490e-01 -5.63619314e-01 -1.21231361e-02\n",
      "  -6.31693646e-02 -5.84109362e-01  3.94359814e-01 -5.25276483e-01\n",
      "  -1.05594783e-01 -3.70191011e-01 -2.36134809e-01 -4.36112032e-01\n",
      "  -9.86788853e-01 -4.47044703e-01 -5.32389682e-01 -3.44850855e-01\n",
      "  -3.09702791e-01  1.57578309e-01 -1.45992911e-01 -8.70208052e-02\n",
      "  -6.21541990e-01  8.04460453e-02 -3.56904750e-01 -1.23727955e-01\n",
      "  -2.28512108e-01 -2.58211038e-01 -1.96434283e-01 -9.95489313e-01\n",
      "  -5.32492048e-01 -1.39721743e-01 -7.05276265e-02  1.91955621e-02\n",
      "  -1.76393920e-01 -1.70338330e-01 -2.22691267e-01 -4.02013713e-01\n",
      "  -1.42748632e-01 -3.48243739e-01 -1.62386039e-01 -2.97038377e-01\n",
      "  -1.51987428e-01 -2.70216461e-01 -2.73579655e-01 -3.18132511e-02\n",
      "  -7.86346644e-01  3.03883780e-02 -4.49825028e-01 -6.95081038e-01\n",
      "   6.41406538e-02 -2.82375714e-01 -4.00787479e-01 -4.00368471e-02\n",
      "  -1.38552265e-01 -1.16103363e-01 -1.09061447e+00  3.66114330e-01\n",
      "  -5.48093437e-01 -1.03898005e-01 -2.51873145e-01 -3.38889387e-01\n",
      "  -1.90357823e-01 -8.78484866e-01 -1.86096295e-01 -9.62394789e-02\n",
      "  -6.60753714e-01 -3.18022591e-01  6.68744230e-02 -3.15755193e-01\n",
      "  -5.71858005e-01 -1.83275683e-01 -7.91071594e-01 -2.47710878e-01\n",
      "  -1.51527265e-01 -5.17538423e-01  4.37426243e-01 -3.20380317e+00\n",
      "  -3.43700885e-01  8.30582529e-01  5.17712090e-01 -2.32918767e+00\n",
      "  -1.06519807e+00  3.32238983e-01 -1.20772473e+00  1.18705147e+00\n",
      "   7.07464942e-02  9.52112719e-01  2.39566333e+00  2.91853916e-01\n",
      "   4.72011427e-01  3.23331451e+00]]\n"
     ]
    }
   ],
   "source": [
    "print(mod.coef_)"
   ]
  },
  {
   "cell_type": "raw",
   "metadata": {},
   "source": [
    "print(train['vectorizer'].get_feature_names())"
   ]
  },
  {
   "cell_type": "code",
   "execution_count": 28,
   "metadata": {},
   "outputs": [],
   "source": [
    "attempt = zip(mod.coef_[0], train['vectorizer'].get_feature_names())"
   ]
  },
  {
   "cell_type": "code",
   "execution_count": 29,
   "metadata": {},
   "outputs": [
    {
     "name": "stdout",
     "output_type": "stream",
     "text": [
      "<zip object at 0x1159d4c48>\n"
     ]
    }
   ],
   "source": [
    "print(attempt)"
   ]
  }
 ],
 "metadata": {
  "kernelspec": {
   "display_name": "Python 3",
   "language": "python",
   "name": "python3"
  },
  "language_info": {
   "codemirror_mode": {
    "name": "ipython",
    "version": 3
   },
   "file_extension": ".py",
   "mimetype": "text/x-python",
   "name": "python",
   "nbconvert_exporter": "python",
   "pygments_lexer": "ipython3",
   "version": "3.6.4"
  }
 },
 "nbformat": 4,
 "nbformat_minor": 2
}
